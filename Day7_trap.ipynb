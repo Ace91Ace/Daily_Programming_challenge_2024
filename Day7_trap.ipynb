{
 "cells": [
  {
   "cell_type": "code",
   "execution_count": null,
   "id": "f802f031-8f30-4f8b-b763-2300836a01dd",
   "metadata": {},
   "outputs": [],
   "source": [
    "def trap(h):  \n",
    "    if not h:  \n",
    "        return 0  \n",
    "\n",
    "    l, r = 0, len(h) - 1  \n",
    "    lm, rm = h[l], h[r]  \n",
    "    w = 0  \n",
    "\n",
    "    while l < r:  \n",
    "        if lm < rm:  \n",
    "            l += 1  \n",
    "            lm = max(lm, h[l])  \n",
    "            w += lm - h[l]  \n",
    "        else:  \n",
    "            r -= 1  \n",
    "            rm = max(rm, h[r])  \n",
    "            w += rm - h[r]  \n",
    "\n",
    "    return w "
   ]
  }
 ],
 "metadata": {
  "kernelspec": {
   "display_name": "Python 3 (ipykernel)",
   "language": "python",
   "name": "python3"
  },
  "language_info": {
   "codemirror_mode": {
    "name": "ipython",
    "version": 3
   },
   "file_extension": ".py",
   "mimetype": "text/x-python",
   "name": "python",
   "nbconvert_exporter": "python",
   "pygments_lexer": "ipython3",
   "version": "3.12.2"
  }
 },
 "nbformat": 4,
 "nbformat_minor": 5
}
