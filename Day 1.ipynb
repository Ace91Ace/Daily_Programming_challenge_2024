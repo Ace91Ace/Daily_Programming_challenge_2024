{
 "cells": [
  {
   "cell_type": "code",
   "execution_count": null,
   "id": "1f6934ba-3c6a-4434-a728-7a9cde6ee0bd",
   "metadata": {},
   "outputs": [],
   "source": [
    "# Function "
   ]
  },
  {
   "cell_type": "code",
   "execution_count": 1,
   "id": "7ec7839a-ecef-4c3c-87f9-33d9e0c892b5",
   "metadata": {},
   "outputs": [],
   "source": [
    "def sort_inplace( array):\n",
    "    n0 = n1 = n2 = 0\n",
    "    for i in array:\n",
    "        if i == 0:\n",
    "            n0 += 1\n",
    "        elif i == 1:\n",
    "            n1 += 1\n",
    "        elif i==2:\n",
    "            n2 += 1\n",
    "\n",
    "    array[:] = n0*[0] + n1*[1] + n2*[2]\n"
   ]
  },
  {
   "cell_type": "code",
   "execution_count": 5,
   "id": "a77bd6cd-9212-47e1-9715-58d3fe93ac8d",
   "metadata": {},
   "outputs": [
    {
     "name": "stdout",
     "output_type": "stream",
     "text": [
      "Testcase 1:   [0, 0, 0, 1, 1, 1, 2, 2] \n",
      "Testcase 2:   [2, 2, 2, 2] \n",
      "Testcase 3:   [0, 0, 0, 0] \n",
      "Testcase 4:   [1, 1, 1, 1] \n",
      "Testcase 5:   [] \n"
     ]
    }
   ],
   "source": [
    "arr = [0, 1, 2, 1, 0, 2, 1, 0]\n",
    "sort_inplace(arr)\n",
    "print(f\"Testcase 1:   {arr} \")\n",
    "\n",
    "arr = [2, 2, 2, 2]\n",
    "sort_inplace(arr)\n",
    "print(f\"Testcase 2:   {arr} \")\n",
    "\n",
    "arr = [0, 0, 0, 0]\n",
    "sort_inplace(arr)\n",
    "print(f\"Testcase 3:   {arr} \")\n",
    "\n",
    "arr =  [1, 1, 1, 1]\n",
    "sort_inplace(arr)\n",
    "print(f\"Testcase 4:   {arr} \")\n",
    "\n",
    "arr = []\n",
    "sort_inplace(arr)\n",
    "print(f\"Testcase 5:   {arr} \")\n"
   ]
  },
  {
   "cell_type": "code",
   "execution_count": null,
   "id": "7280d962-33fb-461c-9d9d-a4a281258a45",
   "metadata": {},
   "outputs": [],
   "source": []
  }
 ],
 "metadata": {
  "kernelspec": {
   "display_name": "Python 3 (ipykernel)",
   "language": "python",
   "name": "python3"
  },
  "language_info": {
   "codemirror_mode": {
    "name": "ipython",
    "version": 3
   },
   "file_extension": ".py",
   "mimetype": "text/x-python",
   "name": "python",
   "nbconvert_exporter": "python",
   "pygments_lexer": "ipython3",
   "version": "3.12.2"
  }
 },
 "nbformat": 4,
 "nbformat_minor": 5
}
