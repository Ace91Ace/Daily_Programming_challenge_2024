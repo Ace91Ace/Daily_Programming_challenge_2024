{
  "metadata": {
    "kernelspec": {
      "name": "python",
      "display_name": "Python (Pyodide)",
      "language": "python"
    },
    "language_info": {
      "codemirror_mode": {
        "name": "python",
        "version": 3
      },
      "file_extension": ".py",
      "mimetype": "text/x-python",
      "name": "python",
      "nbconvert_exporter": "python",
      "pygments_lexer": "ipython3",
      "version": "3.8"
    }
  },
  "nbformat_minor": 4,
  "nbformat": 4,
  "cells": [
    {
      "cell_type": "markdown",
      "source": "# Solution Code",
      "metadata": {}
    },
    {
      "cell_type": "code",
      "source": "def anagrams(strs):\n    dicti = {}\n\n    for i in strs:\n        x = \"\".join(sorted(i))\n        \n        if x in dicti:\n            dicti[x].append(i)\n        else:\n            dicti[x] = [i]\n    \n    return list(dicti.values())",
      "metadata": {
        "trusted": true
      },
      "outputs": [],
      "execution_count": 2
    },
    {
      "cell_type": "markdown",
      "source": "# Implementation of Test Cases",
      "metadata": {}
    },
    {
      "cell_type": "code",
      "source": "print(f\"Test case 1: {anagrams([\"eat\", \"tea\", \"tan\", \"ate\", \"nat\", \"bat\"])}\")\nprint(f\"Test case 1: {anagrams([\"\"])}\")\nprint(f\"Test case 1: {anagrams( [\"a\"])}\")\nprint(f\"Test case 1: {anagrams( [\"abc\", \"bca\", \"cab\", \"xyz\", \"zyx\", \"yxz\"])}\")\nprint(f\"Test case 1: {anagrams([\"abc\", \"def\", \"ghi\"])}\")",
      "metadata": {
        "trusted": true
      },
      "outputs": [
        {
          "name": "stdout",
          "text": "Test case 1: [['eat', 'tea', 'ate'], ['tan', 'nat'], ['bat']]\nTest case 1: [['']]\nTest case 1: [['a']]\nTest case 1: [['abc', 'bca', 'cab'], ['xyz', 'zyx', 'yxz']]\nTest case 1: [['abc'], ['def'], ['ghi']]\n",
          "output_type": "stream"
        }
      ],
      "execution_count": 4
    },
    {
      "cell_type": "code",
      "source": "",
      "metadata": {
        "trusted": true
      },
      "outputs": [],
      "execution_count": null
    }
  ]
}