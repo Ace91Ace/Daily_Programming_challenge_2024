{
  "metadata": {
    "kernelspec": {
      "name": "python",
      "display_name": "Python (Pyodide)",
      "language": "python"
    },
    "language_info": {
      "codemirror_mode": {
        "name": "python",
        "version": 3
      },
      "file_extension": ".py",
      "mimetype": "text/x-python",
      "name": "python",
      "nbconvert_exporter": "python",
      "pygments_lexer": "ipython3",
      "version": "3.8"
    }
  },
  "nbformat_minor": 4,
  "nbformat": 4,
  "cells": [
    {
      "cell_type": "markdown",
      "source": "# Solution Code",
      "metadata": {}
    },
    {
      "cell_type": "code",
      "source": "def isValid(s):\n    stack = []\n    mapping = {\")\": \"(\", \"}\": \"{\", \"]\": \"[\"}\n    for char in s:\n        if char in mapping.values():\n            stack.append(char)\n        elif char in mapping:\n            if not stack or mapping[char] != stack.pop():\n                return False\n    return not stack",
      "metadata": {
        "trusted": true
      },
      "outputs": [],
      "execution_count": 4
    },
    {
      "cell_type": "markdown",
      "source": "# Test Cases Implementation",
      "metadata": {}
    },
    {
      "cell_type": "code",
      "source": "print(f\"Test Case 1:  -> {isValid('()')}\\n\"\n      f\"Test Case 2:  -> {isValid('([)]')}\\n\"\n      f\"Test Case 3:  -> {isValid('[{()}]')}\\n\"\n      f\"Test Case 4:  -> {isValid('')}\\n\"\n      f\"Test Case 5: -> {isValid('{[}')}\")",
      "metadata": {
        "trusted": true
      },
      "outputs": [
        {
          "name": "stdout",
          "text": "Test Case 1:  -> True\nTest Case 2:  -> False\nTest Case 3:  -> True\nTest Case 4:  -> True\nTest Case 5: -> False\n",
          "output_type": "stream"
        }
      ],
      "execution_count": 5
    },
    {
      "cell_type": "code",
      "source": "",
      "metadata": {
        "trusted": true
      },
      "outputs": [],
      "execution_count": null
    }
  ]
}