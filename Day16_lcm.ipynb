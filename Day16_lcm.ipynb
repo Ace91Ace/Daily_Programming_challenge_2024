{
  "metadata": {
    "kernelspec": {
      "name": "python",
      "display_name": "Python (Pyodide)",
      "language": "python"
    },
    "language_info": {
      "codemirror_mode": {
        "name": "python",
        "version": 3
      },
      "file_extension": ".py",
      "mimetype": "text/x-python",
      "name": "python",
      "nbconvert_exporter": "python",
      "pygments_lexer": "ipython3",
      "version": "3.8"
    }
  },
  "nbformat_minor": 4,
  "nbformat": 4,
  "cells": [
    {
      "cell_type": "markdown",
      "source": "# Solution ",
      "metadata": {}
    },
    {
      "cell_type": "code",
      "source": "def gcd(a,b):\n    while b!= 0:\n        a,b = b , a % b\n    return abs(a)\n\ndef lcm (a,b):\n    return abs(a*b / gcd(a,b))",
      "metadata": {
        "trusted": true
      },
      "outputs": [],
      "execution_count": 3
    },
    {
      "cell_type": "markdown",
      "source": "# Test Case Implementation",
      "metadata": {}
    },
    {
      "cell_type": "code",
      "source": "print(f\" Test case 1: {lcm(4,6)}\")\nprint(f\" Test case 2: {lcm(5,10)}\")\nprint(f\" Test case 3: {lcm(7,3)}\")\nprint(f\" Test case 4: {lcm(1,987654321)}\")\nprint(f\" Test case 5: {lcm(123456,789012)}\")",
      "metadata": {
        "trusted": true
      },
      "outputs": [
        {
          "name": "stdout",
          "text": " Test case 1: 12.0\n Test case 2: 10.0\n Test case 3: 21.0\n Test case 4: 987654321.0\n Test case 5: 8117355456.0\n",
          "output_type": "stream"
        }
      ],
      "execution_count": 4
    },
    {
      "cell_type": "code",
      "source": "",
      "metadata": {
        "trusted": true
      },
      "outputs": [],
      "execution_count": null
    }
  ]
}