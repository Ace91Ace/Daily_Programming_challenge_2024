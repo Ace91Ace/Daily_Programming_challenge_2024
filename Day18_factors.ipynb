{
  "metadata": {
    "kernelspec": {
      "name": "python",
      "display_name": "Python (Pyodide)",
      "language": "python"
    },
    "language_info": {
      "codemirror_mode": {
        "name": "python",
        "version": 3
      },
      "file_extension": ".py",
      "mimetype": "text/x-python",
      "name": "python",
      "nbconvert_exporter": "python",
      "pygments_lexer": "ipython3",
      "version": "3.8"
    }
  },
  "nbformat_minor": 4,
  "nbformat": 4,
  "cells": [
    {
      "cell_type": "code",
      "source": "def count_divisors(n):  \n    if n <= 0:  \n        return 0  \n    \n    count = 0  \n    s  \n    for i in range(1, int(n**0.5) + 1):  \n        if n % i == 0:    \n            count += 1    \n            if i != n // i:    \n                count += 1  \n    return count ",
      "metadata": {
        "trusted": true
      },
      "outputs": [],
      "execution_count": null
    }
  ]
}