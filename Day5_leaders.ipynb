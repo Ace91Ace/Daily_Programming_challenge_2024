{
  "metadata": {
    "kernelspec": {
      "name": "python",
      "display_name": "Python (Pyodide)",
      "language": "python"
    },
    "language_info": {
      "codemirror_mode": {
        "name": "python",
        "version": 3
      },
      "file_extension": ".py",
      "mimetype": "text/x-python",
      "name": "python",
      "nbconvert_exporter": "python",
      "pygments_lexer": "ipython3",
      "version": "3.8"
    }
  },
  "nbformat_minor": 4,
  "nbformat": 4,
  "cells": [
    {
      "cell_type": "markdown",
      "source": "# Function for finding Leader elements",
      "metadata": {}
    },
    {
      "cell_type": "code",
      "source": "def leaders(arr):\n    l =  [arr[-1]]\n    maxi = arr[-1]\n    for i in arr[-2::-1]:\n        if i >= maxi:\n            l += [i]\n            maxi = i\n    return l[::-1] ",
      "metadata": {
        "trusted": true
      },
      "outputs": [],
      "execution_count": 10
    },
    {
      "cell_type": "markdown",
      "source": "# Implementation of Test cases",
      "metadata": {}
    },
    {
      "cell_type": "code",
      "source": "print(f\"Test case 1 : {leaders([1,2,3,4,0])}\") \nprint(f\"Test case 1 : {leaders([7,10,4,10,6,5,2])}\") \nprint(f\"Test case 1 : {leaders([5])}\") \nprint(f\"Test case 1 : {leaders([100,50,20,10])}\") \nprint(f\"Test case 1 : {leaders(list(range(1000000+1)))}\") ",
      "metadata": {
        "trusted": true
      },
      "outputs": [
        {
          "name": "stdout",
          "text": "Test case 1 : [4, 0]\nTest case 1 : [10, 10, 6, 5, 2]\nTest case 1 : [5]\nTest case 1 : [100, 50, 20, 10]\nTest case 1 : [1000000]\n",
          "output_type": "stream"
        }
      ],
      "execution_count": 13
    }
  ]
}
