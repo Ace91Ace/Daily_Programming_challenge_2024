{
 "cells": [
  {
   "cell_type": "markdown",
   "metadata": {},
   "source": [
    "# Function for finding Leader elements"
   ]
  },
  {
   "cell_type": "code",
   "execution_count": 3,
   "metadata": {},
   "outputs": [],
   "source": [
    "def leaders(arr):\n",
    "    if not arr:\n",
    "        return []\n",
    "    l =  [arr[-1]]\n",
    "    maxi = arr[-1]\n",
    "    for i in arr[-2::-1]:\n",
    "        if i >= maxi:\n",
    "            l += [i]\n",
    "            maxi = i\n",
    "    return l[::-1] "
   ]
  },
  {
   "cell_type": "markdown",
   "metadata": {},
   "source": [
    "# Implementation of Test cases"
   ]
  },
  {
   "cell_type": "code",
   "execution_count": 4,
   "metadata": {},
   "outputs": [
    {
     "name": "stdout",
     "output_type": "stream",
     "text": [
      "Test case 1 : [4, 0]\n",
      "Test case 1 : [10, 10, 6, 5, 2]\n",
      "Test case 1 : [5]\n",
      "Test case 1 : [100, 50, 20, 10]\n",
      "Test case 1 : [1000000]\n",
      "Test case 1 : []\n"
     ]
    }
   ],
   "source": [
    "print(f\"Test case 1 : {leaders([1,2,3,4,0])}\") \n",
    "print(f\"Test case 1 : {leaders([7,10,4,10,6,5,2])}\") \n",
    "print(f\"Test case 1 : {leaders([5])}\") \n",
    "print(f\"Test case 1 : {leaders([100,50,20,10])}\") \n",
    "print(f\"Test case 1 : {leaders(list(range(1000000+1)))}\") \n",
    "print(f\"Test case 1 : {leaders([])}\") "
   ]
  },
  {
   "cell_type": "code",
   "execution_count": null,
   "metadata": {},
   "outputs": [],
   "source": []
  }
 ],
 "metadata": {
  "kernelspec": {
   "display_name": "Python 3 (ipykernel)",
   "language": "python",
   "name": "python3"
  },
  "language_info": {
   "codemirror_mode": {
    "name": "ipython",
    "version": 3
   },
   "file_extension": ".py",
   "mimetype": "text/x-python",
   "name": "python",
   "nbconvert_exporter": "python",
   "pygments_lexer": "ipython3",
   "version": "3.12.2"
  }
 },
 "nbformat": 4,
 "nbformat_minor": 4
}
