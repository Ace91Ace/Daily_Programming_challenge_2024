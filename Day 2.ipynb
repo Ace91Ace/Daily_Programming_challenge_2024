{
 "cells": [
  {
   "cell_type": "markdown",
   "id": "6b40d89e-36f4-478f-ad16-d46258088e38",
   "metadata": {},
   "source": [
    "# Function with Time complexity O(N) and Space O(1)"
   ]
  },
  {
   "cell_type": "code",
   "execution_count": 10,
   "id": "a9f0201c-2446-44cb-a6e1-08677e5b2046",
   "metadata": {},
   "outputs": [],
   "source": [
    "def missing(arr):\n",
    "    for i in range(1,len(arr)):\n",
    "        if i != arr[i-1]: \n",
    "            return i\n",
    "    return len(arr) + 1"
   ]
  },
  {
   "cell_type": "markdown",
   "id": "3183380f-8c8d-42ed-844d-406760ac24d3",
   "metadata": {},
   "source": [
    "# Implementation of Test cases"
   ]
  },
  {
   "cell_type": "code",
   "execution_count": 16,
   "id": "daa631df-0522-425e-bd36-6173db281e3c",
   "metadata": {},
   "outputs": [
    {
     "name": "stdout",
     "output_type": "stream",
     "text": [
      "Test case 1 : 3\n",
      "Test case 2 : 1\n",
      "Test case 3 : 5\n",
      "Test case 4 : 2\n",
      "Test case 5 : 1000000\n"
     ]
    }
   ],
   "source": [
    "print(f\"Test case 1 : {missing([1, 2, 4, 5])}\")\n",
    "print(f\"Test case 2 : {missing([2, 3, 4, 5])}\")\n",
    "print(f\"Test case 3 : {missing([1, 2, 3, 4])}\")\n",
    "print(f\"Test case 4 : {missing([1])}\")\n",
    "print(f\"Test case 5 : {missing(list(range(1,999999 + 1)))}\")"
   ]
  },
  {
   "cell_type": "code",
   "execution_count": null,
   "id": "30e8d254-29aa-41a5-a0dd-03822294ef85",
   "metadata": {},
   "outputs": [],
   "source": []
  }
 ],
 "metadata": {
  "kernelspec": {
   "display_name": "Python 3 (ipykernel)",
   "language": "python",
   "name": "python3"
  },
  "language_info": {
   "codemirror_mode": {
    "name": "ipython",
    "version": 3
   },
   "file_extension": ".py",
   "mimetype": "text/x-python",
   "name": "python",
   "nbconvert_exporter": "python",
   "pygments_lexer": "ipython3",
   "version": "3.12.2"
  }
 },
 "nbformat": 4,
 "nbformat_minor": 5
}
