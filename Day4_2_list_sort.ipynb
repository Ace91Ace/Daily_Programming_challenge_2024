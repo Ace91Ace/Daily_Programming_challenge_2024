{
 "cells": [
  {
   "cell_type": "markdown",
   "id": "fed65ff7-64f8-4d4c-b609-0cdbdf3a57e0",
   "metadata": {},
   "source": [
    "# Function without any Extra Space"
   ]
  },
  {
   "cell_type": "code",
   "execution_count": 1,
   "id": "939bc579-2eca-4fd7-b7d8-5ba794a0afec",
   "metadata": {},
   "outputs": [],
   "source": [
    "def bi_sort(arr1,arr2):\n",
    "    bbsort(arr1)  \n",
    "    bbsort(arr2)\n",
    "\n",
    "    while (arr1[-1] > arr2[0]):\n",
    "        arr1[-1],arr2[0] = arr2[0],arr1[-1]\n",
    "        bbsort(arr1)  \n",
    "        bbsort(arr2)\n",
    "        \n",
    "    return arr1, arr2\n",
    "\n",
    "\n",
    "def bbsort(arr):  # Bubble sort does in-place sorting , hence no extra space required\n",
    "    n = len(arr)  \n",
    "    for i in range(n):  \n",
    "        s = False  \n",
    "        for j in range(0, n - i - 1):  \n",
    "            if arr[j] > arr[j + 1]:  \n",
    "                arr[j], arr[j + 1] = arr[j + 1], arr[j]  \n",
    "                s = True  \n",
    "        if not s:  \n",
    "            break"
   ]
  },
  {
   "cell_type": "markdown",
   "id": "ac236274-604a-4d9f-afee-4c1e902f7f68",
   "metadata": {},
   "source": [
    "# Implementation of Test Cases"
   ]
  },
  {
   "cell_type": "code",
   "execution_count": null,
   "id": "394eef0b-aa7c-4d78-b5e0-97b886759884",
   "metadata": {},
   "outputs": [
    {
     "name": "stdout",
     "output_type": "stream",
     "text": [
      "Test Case 1 : arr1: [1, 2, 3, 4]\n",
      " arr2 : [5, 6, 7, 8]\n",
      "Test Case 2 : arr1: [1, 3, 5]\n",
      " arr2 : [10, 12, 14]\n",
      "Test Case 3 : arr1: [2, 3, 4]\n",
      " arr2 : [6, 8, 10]\n",
      "Test Case 4 : arr1: [1]\n",
      " arr2 : [2]\n"
     ]
    }
   ],
   "source": [
    "print(f\"Test Case 1 : arr1: {bi_sort([1, 3, 5, 7], [2, 4, 6, 8])[0]}\\n arr2 : {bi_sort([1, 3, 5, 7], [2, 4, 6, 8])[1]}\")\n",
    "\n",
    "print(f\"Test Case 2 : arr1: {bi_sort([10, 12, 14], [1, 3, 5])[0]}\\n arr2 : {bi_sort([10, 12, 14], [1, 3, 5])[1]}\")\n",
    "\n",
    "print(f\"Test Case 3 : arr1: {bi_sort([2, 3, 8], [4, 6, 10])[0]}\\n arr2 : {bi_sort([2, 3, 8], [4, 6, 10])[1]}\")\n",
    "\n",
    "print(f\"Test Case 4 : arr1: {bi_sort([1], [2])[0]}\\n arr2 : {bi_sort([1], [2])[1]}\")\n",
    "\n",
    "print(f\"Test Case 5 : arr1: {bi_sort(list(range(1, 100001)), list(range(50001, 100001)))[0]}\\n arr2 : {bi_sort(list(range(1, 100001)), list(range(50001, 100001)))[1]}\")"
   ]
  },
  {
   "cell_type": "code",
   "execution_count": null,
   "id": "d525fcc0-6261-43be-8bf2-1bc2d8183b5c",
   "metadata": {},
   "outputs": [],
   "source": []
  }
 ],
 "metadata": {
  "kernelspec": {
   "display_name": "Python 3 (ipykernel)",
   "language": "python",
   "name": "python3"
  },
  "language_info": {
   "codemirror_mode": {
    "name": "ipython",
    "version": 3
   },
   "file_extension": ".py",
   "mimetype": "text/x-python",
   "name": "python",
   "nbconvert_exporter": "python",
   "pygments_lexer": "ipython3",
   "version": "3.12.2"
  }
 },
 "nbformat": 4,
 "nbformat_minor": 5
}
