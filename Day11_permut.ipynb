{
  "metadata": {
    "kernelspec": {
      "name": "python",
      "display_name": "Python (Pyodide)",
      "language": "python"
    },
    "language_info": {
      "codemirror_mode": {
        "name": "python",
        "version": 3
      },
      "file_extension": ".py",
      "mimetype": "text/x-python",
      "name": "python",
      "nbconvert_exporter": "python",
      "pygments_lexer": "ipython3",
      "version": "3.8"
    }
  },
  "nbformat_minor": 4,
  "nbformat": 4,
  "cells": [
    {
      "cell_type": "code",
      "source": "def unique_permutations(s):  \n    def backtrack(path, remaining):  \n        if not remaining:  \n            result.add(''.join(path))  \n            return  \n        for i in range(len(remaining)):  \n              \n            if i > 0 and remaining[i] == remaining[i - 1]:  \n                continue  \n            backtrack(path + [remaining[i]], remaining[:i] + remaining[i + 1:])  \n\n    result = set()  \n    backtrack([], sorted(s))  \n    return list(result)",
      "metadata": {
        "trusted": true
      },
      "outputs": [],
      "execution_count": null
    },
    {
      "cell_type": "code",
      "source": "",
      "metadata": {
        "trusted": true
      },
      "outputs": [],
      "execution_count": null
    }
  ]
}