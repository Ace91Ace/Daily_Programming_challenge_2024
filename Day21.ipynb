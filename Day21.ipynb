{
  "metadata": {
    "kernelspec": {
      "name": "python",
      "display_name": "Python (Pyodide)",
      "language": "python"
    },
    "language_info": {
      "name": ""
    }
  },
  "nbformat_minor": 4,
  "nbformat": 4,
  "cells": [
    {
      "cell_type": "code",
      "source": "class Stack:  \n    def __init__(self):  \n        self.items = []  \n\n    def push(self, item):  \n        self.items.append(item)  \n\n    def pop(self):  \n        if not self.is_empty():  \n            return self.items.pop()  \n\n    def peek(self):  \n        if not self.is_empty():  \n            return self.items[-1]  \n\n    def is_empty(self):  \n        return len(self.items) == 0  \n\n    def reverse(self):  \n        if not self.is_empty():  \n            top_element = self.pop()  \n            self.reverse()  \n            self.push_at_bottom(top_element)  \n\n    def push_at_bottom(self, item):  \n        if self.is_empty():  \n            self.push(item)  \n        else:  \n            top = self.pop()  \n            self.push_at_bottom(item)  \n            self.push(top)  \n\n    def __str__(self):  \n        return str(self.items)  \n\nstack = Stack()  \nfor number in [1, 2, 3, 4]:  \n    stack.push(number)  \n\nprint(\"Original stack:\", stack)  \nstack.reverse()  \nprint(\"Reversed stack:\", stack)",
      "metadata": {
        "trusted": true
      },
      "outputs": [],
      "execution_count": null
    }
  ]
}