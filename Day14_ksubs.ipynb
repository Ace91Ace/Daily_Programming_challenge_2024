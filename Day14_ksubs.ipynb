{
  "metadata": {
    "kernelspec": {
      "name": "python",
      "display_name": "Python (Pyodide)",
      "language": "python"
    },
    "language_info": {
      "codemirror_mode": {
        "name": "python",
        "version": 3
      },
      "file_extension": ".py",
      "mimetype": "text/x-python",
      "name": "python",
      "nbconvert_exporter": "python",
      "pygments_lexer": "ipython3",
      "version": "3.8"
    }
  },
  "nbformat_minor": 4,
  "nbformat": 4,
  "cells": [
    {
      "cell_type": "code",
      "source": "def count_substrings(s, k):  \n    count = 0  \n    n = len(s)  \n    for i in range(n):  \n        distinct_chars = set()  \n        for j in range(i, n):  \n            distinct_chars.add(s[j])  \n            if len(distinct_chars) == k:  \n                count += 1  \n            elif len(distinct_chars) > k:  \n                break  \n    return count  \n",
      "metadata": {
        "trusted": true
      },
      "outputs": [],
      "execution_count": 9
    },
    {
      "cell_type": "code",
      "source": "test_cases = [  \n    (\"pqpqs\", 2),  \n    (\"aabacbebebe\", 3),  \n    (\"a\", 1),  \n    (\"abc\", 3),  \n    (\"abc\", 2)  \n]  \n\nfor s, k in test_cases:  \n    output = count_substrings(s, k)  \n    print(f'Input: s = \"{s}\", k = {k} \\nOutput: {output}\\n')  ",
      "metadata": {
        "trusted": true
      },
      "outputs": [
        {
          "name": "stdout",
          "text": "Input: s = \"pqpqs\", k = 2 \nOutput: 7\n\nInput: s = \"aabacbebebe\", k = 3 \nOutput: 12\n\nInput: s = \"a\", k = 1 \nOutput: 1\n\nInput: s = \"abc\", k = 3 \nOutput: 1\n\nInput: s = \"abc\", k = 2 \nOutput: 2\n\n",
          "output_type": "stream"
        }
      ],
      "execution_count": 10
    },
    {
      "cell_type": "code",
      "source": "",
      "metadata": {
        "trusted": true
      },
      "outputs": [],
      "execution_count": null
    }
  ]
}