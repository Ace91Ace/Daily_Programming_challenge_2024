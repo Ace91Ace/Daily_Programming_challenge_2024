{
 "cells": [
  {
   "cell_type": "markdown",
   "id": "0a0d7cc3-0cc8-42fa-85cd-fd47dd275559",
   "metadata": {},
   "source": [
    "# Solution with no inbuilt function"
   ]
  },
  {
   "cell_type": "code",
   "execution_count": 44,
   "id": "9aa4b83f-5d4e-4e70-8276-240309495129",
   "metadata": {},
   "outputs": [],
   "source": [
    "def wordrev(words):\n",
    "    w = \"\"\n",
    "    s = \"\"\n",
    "    for i in words:\n",
    "        if i != \" \":\n",
    "            s += i\n",
    "        else:\n",
    "            if s != '':\n",
    "                w = s +\" \"+ w\n",
    "                s = \"\"\n",
    "    if s != '':\n",
    "        w = s + \" \" + w\n",
    "    return w"
   ]
  },
  {
   "cell_type": "markdown",
   "id": "b3c322ae-8c41-4c86-9927-3fe8698c817a",
   "metadata": {},
   "source": [
    "# Single line Solution"
   ]
  },
  {
   "cell_type": "code",
   "execution_count": 24,
   "id": "12e22485-c3be-493a-9bf6-30dd5a3f8562",
   "metadata": {},
   "outputs": [],
   "source": [
    "#def wordrev(words):\n",
    "#    return ' '.join(words.strip().split()[::-1])"
   ]
  },
  {
   "cell_type": "markdown",
   "id": "50a53e83-86f6-4341-ac3e-286ad3766022",
   "metadata": {},
   "source": [
    "# Implementation of Test cases"
   ]
  },
  {
   "cell_type": "code",
   "execution_count": 48,
   "id": "f1f9b460-95d5-4d6b-b779-80433d9d30e0",
   "metadata": {},
   "outputs": [
    {
     "name": "stdout",
     "output_type": "stream",
     "text": [
      "Test case 1: blue is sky the \n",
      "Test case 2: world hello \n",
      "Test case 3: example good a \n",
      "Test case 4: \n",
      "Test case 5: word \n"
     ]
    }
   ],
   "source": [
    "print(f\"Test case 1: {wordrev(\"the sky is blue\")}\")\n",
    "print(f\"Test case 2: {wordrev(\"  hello world  \")}\")\n",
    "print(f\"Test case 3: {wordrev(\"a good   example\")}\")\n",
    "print(f\"Test case 4: {wordrev(\"    \")}\")\n",
    "print(f\"Test case 5: {wordrev(\"word\")}\")"
   ]
  },
  {
   "cell_type": "code",
   "execution_count": null,
   "id": "0ed6bd87-dd85-44b2-bc34-8142637bea9e",
   "metadata": {},
   "outputs": [],
   "source": []
  }
 ],
 "metadata": {
  "kernelspec": {
   "display_name": "Python 3 (ipykernel)",
   "language": "python",
   "name": "python3"
  },
  "language_info": {
   "codemirror_mode": {
    "name": "ipython",
    "version": 3
   },
   "file_extension": ".py",
   "mimetype": "text/x-python",
   "name": "python",
   "nbconvert_exporter": "python",
   "pygments_lexer": "ipython3",
   "version": "3.12.2"
  }
 },
 "nbformat": 4,
 "nbformat_minor": 5
}
