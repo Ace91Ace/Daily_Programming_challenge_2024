{
 "cells": [
  {
   "cell_type": "markdown",
   "id": "84608c8d-ac79-4b49-a916-bd231d1aebc6",
   "metadata": {},
   "source": [
    "# Time Complexity O(N) , Space Complexity O(1)"
   ]
  },
  {
   "cell_type": "code",
   "execution_count": 39,
   "id": "03410694-44d6-47d4-8dc7-d8bbb1866b76",
   "metadata": {},
   "outputs": [],
   "source": [
    "def f_repeat(nums):  \n",
    "    xor = 0  \n",
    "    n = len(nums) - 1   \n",
    "    \n",
    "    for i in nums:  \n",
    "        xor ^= i \n",
    "    for i in range(1, n + 1):  \n",
    "        xor ^= i  \n",
    "\n",
    "    return xor  "
   ]
  },
  {
   "cell_type": "markdown",
   "id": "447008bf-c9dd-4108-864e-0940bb86d27a",
   "metadata": {},
   "source": [
    "# Test Cases Implementation"
   ]
  },
  {
   "cell_type": "code",
   "execution_count": 40,
   "id": "214a5f38-ea35-4d41-94fc-745fd52c146a",
   "metadata": {},
   "outputs": [
    {
     "name": "stdout",
     "output_type": "stream",
     "text": [
      "Test case 1 : 2\n",
      "Test case 1 : 3\n",
      "Test case 1 : 1\n",
      "Test case 1 : 4\n",
      "Test case 1 : 50000\n"
     ]
    }
   ],
   "source": [
    "print(f\"Test case 1 : {f_repeat([1, 3, 4, 2, 2])}\")\n",
    "print(f\"Test case 1 : {f_repeat([3, 1, 3, 4, 2])}\")\n",
    "print(f\"Test case 1 : {f_repeat([1, 1])}\")\n",
    "print(f\"Test case 1 : {f_repeat([1, 4, 4, 2, 3])}\")\n",
    "print(f\"Test case 1 : {f_repeat(list(range(1,99999+1)) + [50000])}\")"
   ]
  },
  {
   "cell_type": "code",
   "execution_count": null,
   "id": "d2cfdd62-ae99-4847-86a2-a66bcd25979e",
   "metadata": {},
   "outputs": [],
   "source": []
  },
  {
   "cell_type": "code",
   "execution_count": null,
   "id": "400d6ac6-7c89-44e8-8dc8-5b796b30a326",
   "metadata": {},
   "outputs": [],
   "source": []
  }
 ],
 "metadata": {
  "kernelspec": {
   "display_name": "Python 3 (ipykernel)",
   "language": "python",
   "name": "python3"
  },
  "language_info": {
   "codemirror_mode": {
    "name": "ipython",
    "version": 3
   },
   "file_extension": ".py",
   "mimetype": "text/x-python",
   "name": "python",
   "nbconvert_exporter": "python",
   "pygments_lexer": "ipython3",
   "version": "3.12.2"
  }
 },
 "nbformat": 4,
 "nbformat_minor": 5
}
