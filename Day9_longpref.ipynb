{
  "metadata": {
    "kernelspec": {
      "name": "python",
      "display_name": "Python (Pyodide)",
      "language": "python"
    },
    "language_info": {
      "codemirror_mode": {
        "name": "python",
        "version": 3
      },
      "file_extension": ".py",
      "mimetype": "text/x-python",
      "name": "python",
      "nbconvert_exporter": "python",
      "pygments_lexer": "ipython3",
      "version": "3.8"
    }
  },
  "nbformat_minor": 4,
  "nbformat": 4,
  "cells": [
    {
      "cell_type": "markdown",
      "source": "# Solution function ",
      "metadata": {}
    },
    {
      "cell_type": "code",
      "source": "def long_pref(strs):  \n    if not strs:  \n        return \"\"  \n    \n    pref = strs[0]  \n    \n    for s in strs[1:]:  \n        while not pref == s[:len(pref)]:  \n            pref = pref[:-1]  \n            if not pref:  \n                return \"\"  \n    \n    return pref",
      "metadata": {
        "trusted": true
      },
      "outputs": [],
      "execution_count": 2
    },
    {
      "cell_type": "markdown",
      "source": "# Implementation of Test Cases",
      "metadata": {}
    },
    {
      "cell_type": "code",
      "source": "result1 = long_pref([\"flower\", \"flow\", \"flight\"])  \nprint(f\"Input: strs[] = ['flower', 'flow', 'flight'], Output: '{result1}'\")  \n\nresult2 = long_pref([\"dog\", \"racecar\", \"car\"])  \nprint(f\"Input: strs[] = ['dog', 'racecar', 'car'], Output: '{result2}'\")  \n\nresult3 = long_pref([\"apple\", \"ape\", \"april\"])  \nprint(f\"Input: strs[] = ['apple', 'ape', 'april'], Output: '{result3}'\")  \n\nresult4 = long_pref([\"\"])  \nprint(f\"Input: strs[] = [''], Output: '{result4}'\")  \n\nresult5 = long_pref([\"alone\"])  \nprint(f\"Input: strs[] = ['alone'], Output: '{result5}'\")  ",
      "metadata": {
        "trusted": true
      },
      "outputs": [
        {
          "name": "stdout",
          "text": "Input: strs[] = ['flower', 'flow', 'flight'], Output: 'fl'\nInput: strs[] = ['dog', 'racecar', 'car'], Output: ''\nInput: strs[] = ['apple', 'ape', 'april'], Output: 'ap'\nInput: strs[] = [''], Output: ''\nInput: strs[] = ['alone'], Output: 'alone'\n",
          "output_type": "stream"
        }
      ],
      "execution_count": 3
    },
    {
      "cell_type": "code",
      "source": "",
      "metadata": {
        "trusted": true
      },
      "outputs": [],
      "execution_count": null
    }
  ]
}