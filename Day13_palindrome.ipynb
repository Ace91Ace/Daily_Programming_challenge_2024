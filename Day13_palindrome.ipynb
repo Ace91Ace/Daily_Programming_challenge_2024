{
  "metadata": {
    "kernelspec": {
      "name": "python",
      "display_name": "Python (Pyodide)",
      "language": "python"
    },
    "language_info": {
      "codemirror_mode": {
        "name": "python",
        "version": 3
      },
      "file_extension": ".py",
      "mimetype": "text/x-python",
      "name": "python",
      "nbconvert_exporter": "python",
      "pygments_lexer": "ipython3",
      "version": "3.8"
    }
  },
  "nbformat_minor": 4,
  "nbformat": 4,
  "cells": [
    {
      "cell_type": "markdown",
      "source": "# Solution Funstion",
      "metadata": {}
    },
    {
      "cell_type": "code",
      "source": "def longest_palindrome(s: str) -> str:  \n    max_palindrome = \"\"  \n    \n    for i in range(len(s)):  \n        for j in range(i, len(s)):  \n            substring = s[i:j + 1]  \n            if substring == substring[::-1] and len(substring) > len(max_palindrome):  \n                max_palindrome = substring  \n                \n    return max_palindrome",
      "metadata": {
        "trusted": true
      },
      "outputs": [],
      "execution_count": 1
    },
    {
      "cell_type": "markdown",
      "source": "# Implementation of Test cases",
      "metadata": {}
    },
    {
      "cell_type": "code",
      "source": "test_cases = [  \n    (\"babad\", \"bab\"),  \n    (\"cbbd\", \"bb\"),  \n    (\"a\", \"a\"),  \n    (\"aaaa\", \"aaaa\"),  \n    (\"abc\", \"a\")  \n]  \n\nfor i, (input_str, expected_output) in enumerate(test_cases, 1):  \n    result = longest_palindrome(input_str)  \n    print(f\"Test case {i}: input = \\\"{input_str}\\\"; output = \\\"{result}\\\"; expected = \\\"{expected_output}\\\"\")",
      "metadata": {
        "trusted": true
      },
      "outputs": [
        {
          "name": "stdout",
          "text": "Test case 1: input = \"babad\"; output = \"bab\"; expected = \"bab\"\nTest case 2: input = \"cbbd\"; output = \"bb\"; expected = \"bb\"\nTest case 3: input = \"a\"; output = \"a\"; expected = \"a\"\nTest case 4: input = \"aaaa\"; output = \"aaaa\"; expected = \"aaaa\"\nTest case 5: input = \"abc\"; output = \"a\"; expected = \"a\"\n",
          "output_type": "stream"
        }
      ],
      "execution_count": 2
    },
    {
      "cell_type": "code",
      "source": "",
      "metadata": {
        "trusted": true
      },
      "outputs": [],
      "execution_count": null
    }
  ]
}